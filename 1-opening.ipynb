{
 "cells": [
  {
   "cell_type": "markdown",
   "metadata": {},
   "source": [
    "# セッションの説明\n",
    "\n",
    "## タイトル\n",
    "\n",
    "Python 機械学習ことはじめ\n",
    "\n",
    "## 内容\n",
    "\n",
    "Pythonで機械学習を行う際の、データハンドリングを中心に デモ形式で説明します。\n",
    "\n",
    "時間的に限りが ありますので、細かな説明を行うのではなく、順次実行していく 状況を見て、Pythonでは どのように実行しているのかを知ってもらうことを目的とします。\n",
    "\n",
    "WebブラウザでPythonを実行できる、Jupyter Notebookを用います。実行した内容はGithubで公開しますので、詳細の動きは後から自分自身で 復習できます。\n",
    "\n",
    "https://github.com/terapyon/scsk-oss-x-users-meeting-19\n",
    "\n",
    "説明資料は以下にあります。\n",
    "\n",
    "https://speakerdeck.com/terapyon/pythonji-jie-xue-xi-kotohazime\n"
   ]
  },
  {
   "cell_type": "markdown",
   "metadata": {},
   "source": [
    "# 本日の流れ\n",
    "\n",
    "- データの入手(2箇所から、CSVファイル)\n",
    "- データの概要確認\n",
    "- データの結合\n",
    "- データの加工\n",
    "- 欠損値処理\n",
    "- グラフツールによる可視化\n",
    "- 関連度などを確認\n",
    "- データの保存\n",
    "- 機械学習をやってみる"
   ]
  },
  {
   "cell_type": "markdown",
   "metadata": {},
   "source": [
    "# 使用するツール\n",
    "\n",
    "- Python 3.6.1 : https://docs.python.jp/3/\n",
    "- NumPy 1.13.0 : https://docs.scipy.org/doc/\n",
    "- SciPy 0.19.0: https://docs.scipy.org/doc/\n",
    "- pandas 0.20.2 : http://pandas.pydata.org/pandas-docs/stable/\n",
    "- matplotlib 2.0.2 : https://matplotlib.org/contents.html\n",
    "- scikit-learn 0.18.2 : http://scikit-learn.org/stable/documentation.html\n",
    "- jupyter　1.0.0　: http://jupyter-notebook.readthedocs.io/en/latest/\n",
    "\n",
    "詳細は、  `requirements.txt` を参照のこと"
   ]
  },
  {
   "cell_type": "markdown",
   "metadata": {},
   "source": [
    "# セットアップ方法\n",
    "\n",
    "```\n",
    "$ python3 -m venv env\n",
    "$ source env/bin/activate\n",
    "(env) $ pip install -r requirements.txt\n",
    "```"
   ]
  },
  {
   "cell_type": "markdown",
   "metadata": {},
   "source": [
    "# 資料の公開\n",
    "\n",
    "このドキュメントを含めて、github上で公開しています。\n",
    "\n",
    "https://github.com/terapyon/scsk-oss-x-users-meeting-19\n",
    "\n",
    "ライセンスは、MIT Licenseです。詳細は、 `LICENSE` を参照のこと\n",
    "\n",
    "使用しているデータはそれぞれの配布元のライセンスに従って下さい。\n",
    "\n",
    "- 気象データは `CC BY 4.0 気象庁 (互換)`\n",
    "- インフルエンザ報告データは `CC BY 千葉市`"
   ]
  },
  {
   "cell_type": "markdown",
   "metadata": {},
   "source": [
    "# このセッションで理解してほしいこと\n",
    "\n",
    "データハンドリングは、「データの前処理」とも言われています。この前処理は、データ分析・機械学習において重要であり、もっとも時間がかかるタスクです。このセッションでは、データハンドリングの方法を中心に見ていきます。\n",
    "\n",
    "- Pythonで、どのようにデータハンドリングを行い、可視化し、機械学習に繋げていくのかの流れを理解して欲しいと思っています。\n",
    "- サンプルのデータセットではない物を使用することで、実際データハンドリングに近い状態の作業をを見て欲しいと思っています。\n",
    "- Jupyter Notebookでおさらいし、ドキュメントを確認して、自身で独自のデータに取り組めるようになって欲しいと思っています。\n",
    "- 2値分類の機械学習を通じ、機械学習の面白さ、難しさを知ってほしいと思っています。\n"
   ]
  },
  {
   "cell_type": "markdown",
   "metadata": {
    "collapsed": true
   },
   "source": [
    "# 自己紹介\n",
    "\n",
    "- 寺田　学　 @terapyon\n",
    "- 一般社団法人PyCon JP 代表理事\n",
    "- (株)CMSコミュニケーションズ 代表\n",
    "- Pythonを使ったWeb技術を中心に業務でPythonを使っている\n",
    "- Python製CMSツールのPloneのコアコミッター\n",
    "- その他、OSS系のコミュニティに所属"
   ]
  },
  {
   "cell_type": "markdown",
   "metadata": {},
   "source": [
    "# 書籍の紹介\n",
    "\n",
    "## プログラミング初学者\n",
    "\n",
    "- スラスラわかるPython(予約発売) : 　http://amzn.to/2r1P8nG\n",
    "\n",
    "## Python\n",
    "\n",
    "- Pythonチュートリアル 第3版: http://amzn.to/2saXIEJ \n",
    "- Effective Python: http://amzn.to/2sJZE4f\n",
    "\n",
    "- **非推奨** 入門 Python 3\n",
    "\n",
    "## データ系\n",
    "\n",
    "- 10分でわかるPandas (公式サイト) : http://pandas.pydata.org/pandas-docs/stable/10min.html\n",
    "- 科学技術計算のためのPython入門: http://amzn.to/2sldJHT (微妙なコードはあったが)\n",
    "- Python機械学習プログラミング http://amzn.to/2slxpLS\n",
    "- ゼロから作るDeep Learning: http://amzn.to/2saxvpO\n",
    "- PyData.Tokyo Tutorial & Hackathon #1 : https://github.com/PyDataTokyo/pydata-tokyo-tutorial-1"
   ]
  },
  {
   "cell_type": "code",
   "execution_count": 1,
   "metadata": {
    "collapsed": true
   },
   "outputs": [],
   "source": [
    "from IPython.display import Image"
   ]
  },
  {
   "cell_type": "code",
   "execution_count": 2,
   "metadata": {},
   "outputs": [
    {
     "data": {
      "text/html": [
       "<img src=\"http://www.seshop.com/static/images/product/20258/L.jpg\"/>"
      ],
      "text/plain": [
       "<IPython.core.display.Image object>"
      ]
     },
     "execution_count": 2,
     "metadata": {},
     "output_type": "execute_result"
    }
   ],
   "source": [
    "Image(url=\"http://www.seshop.com/static/images/product/20258/L.jpg\")"
   ]
  },
  {
   "cell_type": "markdown",
   "metadata": {},
   "source": [
    "# 事前準備の確認\n",
    "\n",
    "必要になるライブラリのインポートを行い、インストールが完了しているか確認します。"
   ]
  },
  {
   "cell_type": "code",
   "execution_count": 3,
   "metadata": {},
   "outputs": [
    {
     "name": "stdout",
     "output_type": "stream",
     "text": [
      "Python 3.6.1\r\n"
     ]
    }
   ],
   "source": [
    "!python -V"
   ]
  },
  {
   "cell_type": "code",
   "execution_count": 4,
   "metadata": {
    "collapsed": true
   },
   "outputs": [],
   "source": [
    "import numpy as np  # NumPyの呼び出し"
   ]
  },
  {
   "cell_type": "code",
   "execution_count": 5,
   "metadata": {
    "collapsed": true
   },
   "outputs": [],
   "source": [
    "import pandas as pd  # pandasの呼び出し"
   ]
  },
  {
   "cell_type": "code",
   "execution_count": 6,
   "metadata": {
    "collapsed": true
   },
   "outputs": [],
   "source": [
    "import matplotlib.pyplot as plt # matplotlibの呼び出し"
   ]
  },
  {
   "cell_type": "code",
   "execution_count": 7,
   "metadata": {
    "collapsed": true
   },
   "outputs": [],
   "source": [
    "import sklearn  # scikit-learnの呼び出し"
   ]
  }
 ],
 "metadata": {
  "kernelspec": {
   "display_name": "Python 3",
   "language": "python",
   "name": "python3"
  },
  "language_info": {
   "codemirror_mode": {
    "name": "ipython",
    "version": 3
   },
   "file_extension": ".py",
   "mimetype": "text/x-python",
   "name": "python",
   "nbconvert_exporter": "python",
   "pygments_lexer": "ipython3",
   "version": "3.6.1"
  }
 },
 "nbformat": 4,
 "nbformat_minor": 2
}
